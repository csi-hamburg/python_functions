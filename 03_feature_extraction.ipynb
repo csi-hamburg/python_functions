{
 "cells": [
  {
   "cell_type": "markdown",
   "metadata": {},
   "source": [
    "# Plotting\n",
    "\n",
    "> Module for extracting features from image data "
   ]
  },
  {
   "cell_type": "code",
   "execution_count": null,
   "metadata": {},
   "outputs": [],
   "source": [
    "#| default_exp feature_extraction"
   ]
  },
  {
   "cell_type": "code",
   "execution_count": null,
   "metadata": {},
   "outputs": [],
   "source": [
    "#| hide\n",
    "from nbdev.showdoc import *"
   ]
  },
  {
   "cell_type": "code",
   "execution_count": null,
   "metadata": {},
   "outputs": [],
   "source": [
    "#| export\n",
    "def extract_roi_information(\n",
    "    image_path, # Path to the 3D image \n",
    "    atlas_path, # Path to the 4D atlas\n",
    "    atlas_labels, # List of labels\n",
    "    aggregation=\"mean\" # Method of aggregation (\"mean\", \"sum\", or \"load\")\n",
    "    ):\n",
    "    \"\"\"\n",
    "    Extracts ROI information from a given image using a specified atlas.\n",
    "    \n",
    "    Returns:\n",
    "    - array: An array with aggregated ROI values\n",
    "    \"\"\"\n",
    "\n",
    "    import numpy as np\n",
    "    import nibabel as nib\n",
    "    \n",
    "    # Load the data\n",
    "    image = nib.load(str(image_path)).get_fdata()\n",
    "    atlas = nib.load(atlas_path).get_fdata()\n",
    "    \n",
    "    assert np.all(np.isin(image, [0, 1])), \"WMH mask must be binary\"\n",
    "    assert np.all(np.isin(atlas, [0, 1])), \"atlas must be binary\"\n",
    "    assert image.shape == atlas.shape[:-1], \"Spatial dimensions of the image and atlas do not match\"\n",
    "    assert atlas.ndim == 4, \"atlas must be 4d\"\n",
    "    assert len(atlas_labels) == atlas.shape[3], \"atlas_labels and 4th dimension of atlas must have the same length\"\n",
    "    \n",
    "    if aggregation == \"mean\":\n",
    "        values = np.sum(image[..., np.newaxis] * atlas, axis=(0, 1, 2)) / np.sum(atlas, axis=(0, 1, 2))\n",
    "    elif aggregation == \"sum\":\n",
    "        values = np.sum(image[..., np.newaxis] * atlas, axis=(0, 1, 2))\n",
    "    elif aggregation == \"load\":\n",
    "        values = np.sum(image[..., np.newaxis] * atlas, axis=(0, 1, 2)) / np.sum(atlas > 0, axis=(0, 1, 2))\n",
    "    else:\n",
    "        raise ValueError(\"aggregation must be 'mean', 'sum', or 'load'\")\n",
    "\n",
    "    return values\n",
    "\n",
    "# Use the function as:\n",
    "# result = extract_roi_information(image_path, atlas_path, atlas_labels)\n",
    "\n"
   ]
  },
  {
   "cell_type": "code",
   "execution_count": null,
   "metadata": {},
   "outputs": [],
   "source": [
    "#| hide\n",
    "import nbdev; nbdev.nbdev_export()"
   ]
  },
  {
   "cell_type": "code",
   "execution_count": null,
   "metadata": {},
   "outputs": [],
   "source": []
  },
  {
   "cell_type": "code",
   "execution_count": null,
   "metadata": {},
   "outputs": [],
   "source": []
  }
 ],
 "metadata": {
  "kernelspec": {
   "display_name": "Python 3.7.7 ('brainstat')",
   "language": "python",
   "name": "python3"
  }
 },
 "nbformat": 4,
 "nbformat_minor": 4
}
