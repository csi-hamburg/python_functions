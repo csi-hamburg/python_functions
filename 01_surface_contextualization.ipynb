{
 "cells": [
  {
   "cell_type": "markdown",
   "metadata": {},
   "source": [
    "# Surface contextualization\n",
    "\n",
    "> Module for surface contextualization of cortical indices"
   ]
  },
  {
   "cell_type": "code",
   "execution_count": null,
   "metadata": {},
   "outputs": [],
   "source": [
    "#| default_exp surface_contextualization"
   ]
  },
  {
   "cell_type": "code",
   "execution_count": null,
   "metadata": {},
   "outputs": [],
   "source": [
    "#| hide\n",
    "from nbdev.showdoc import *"
   ]
  },
  {
   "cell_type": "code",
   "execution_count": null,
   "metadata": {},
   "outputs": [],
   "source": [
    "#| export\n",
    "def plot_surface(\n",
    "    surface:str, # Surface to plot on (default: fslr32k). Valid choices are “fslr32k”, “fsaverage”, “fsaverage3”, “fsaverage4”, “fsaverage5”, “fsaverage6”, “civet41k”, “civet164k”.\n",
    "    values, # numpy array of values to plot (has to match the number of vertices in the surface)\n",
    "    label_text:str, # text to label the plot\n",
    "    color_range:tuple=None, # color range to use\n",
    "    cmap=\"Blues\" # color map to use\n",
    "    )->object: # Plot \n",
    "    \"Plots metric values on surface\"\n",
    "    \n",
    "    # Plot cortical surfaces with values as the data, label_text as\n",
    "    # the labels, and color_range as the limits of the color bar.\n",
    "    from brainstat.datasets import fetch_mask, fetch_template_surface\n",
    "\n",
    "    # Load behavioral markers\n",
    "    pial_left, pial_right = fetch_template_surface(surface, join=False)\n",
    "    pial_combined = fetch_template_surface(surface, join=True)\n",
    "    mask = fetch_mask(surface)\n",
    "\n",
    "    \n",
    "    from brainspace.plotting import plot_hemispheres\n",
    "    import numpy as np\n",
    "\n",
    "    if not color_range:\n",
    "        color_range = (np.nanmin(values), np.nanmax(values))\n",
    "\n",
    "    return plot_hemispheres(\n",
    "        pial_left,\n",
    "        pial_right,\n",
    "        values,\n",
    "        color_bar=True,\n",
    "        color_range=color_range,\n",
    "        label_text=label_text,\n",
    "        cmap=cmap,\n",
    "        embed_nb=True,\n",
    "        size=(1400, 200),\n",
    "        zoom=1.45,\n",
    "        nan_color=(0.5, 0.5, 0.5, 1),\n",
    "        cb__labelTextProperty={\"fontSize\": 12},\n",
    "        interactive=False,\n",
    "    )"
   ]
  },
  {
   "cell_type": "code",
   "execution_count": null,
   "metadata": {},
   "outputs": [],
   "source": [
    "#| hide\n",
    "import nbdev; nbdev.nbdev_export()"
   ]
  },
  {
   "cell_type": "code",
   "execution_count": null,
   "metadata": {},
   "outputs": [],
   "source": []
  },
  {
   "cell_type": "code",
   "execution_count": null,
   "metadata": {},
   "outputs": [],
   "source": []
  }
 ],
 "metadata": {
  "kernelspec": {
   "display_name": "Python 3.7.7 ('brainstat')",
   "language": "python",
   "name": "python3"
  }
 },
 "nbformat": 4,
 "nbformat_minor": 4
}
