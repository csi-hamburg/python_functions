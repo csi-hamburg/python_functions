{
 "cells": [
  {
   "cell_type": "markdown",
   "metadata": {},
   "source": [
    "# Surface contextualization\n",
    "\n",
    "> Module for surface contextualization of cortical indices"
   ]
  },
  {
   "cell_type": "code",
   "execution_count": null,
   "metadata": {},
   "outputs": [],
   "source": [
    "#| default_exp surface_contextualization"
   ]
  },
  {
   "cell_type": "code",
   "execution_count": null,
   "metadata": {},
   "outputs": [],
   "source": [
    "#| hide\n",
    "from nbdev.showdoc import *"
   ]
  },
  {
   "cell_type": "code",
   "execution_count": null,
   "metadata": {},
   "outputs": [],
   "source": [
    "#| export\n",
    "def plot_surface(\n",
    "    surface:str, # Surface to plot on (default: fslr32k). Valid choices are “fslr32k”, “fsaverage”, “fsaverage3”, “fsaverage4”, “fsaverage5”, “fsaverage6”, “civet41k”, “civet164k”.\n",
    "    values, # numpy array of values to plot (has to match the number of vertices in the surface)\n",
    "    label_text:str, # text to label the plot\n",
    "    color_range:tuple=None, # color range to use\n",
    "    cmap=\"Blues\" # color map to use\n",
    "    )->object: # Plot \n",
    "    \"Plots metric values on surface\"\n",
    "    \n",
    "    # Plot cortical surfaces with values as the data, label_text as\n",
    "    # the labels, and color_range as the limits of the color bar.\n",
    "    from brainstat.datasets import fetch_mask, fetch_template_surface\n",
    "\n",
    "    # Load behavioral markers\n",
    "    pial_left, pial_right = fetch_template_surface(surface, join=False)\n",
    "    pial_combined = fetch_template_surface(surface, join=True)\n",
    "    mask = fetch_mask(surface)\n",
    "\n",
    "    \n",
    "    from brainspace.plotting import plot_hemispheres\n",
    "    import numpy as np\n",
    "\n",
    "    if not color_range:\n",
    "        color_range = (np.nanmin(values), np.nanmax(values))\n",
    "\n",
    "    return plot_hemispheres(\n",
    "        pial_left,\n",
    "        pial_right,\n",
    "        values,\n",
    "        color_bar=True,\n",
    "        color_range=color_range,\n",
    "        label_text=[label_text],\n",
    "        cmap=cmap,\n",
    "        embed_nb=True,\n",
    "        size=(1400, 200),\n",
    "        zoom=1.45,\n",
    "        nan_color=(0.5, 0.5, 0.5, 1),\n",
    "        cb__labelTextProperty={\"fontSize\": 12},\n",
    "        interactive=False,\n",
    "    )"
   ]
  },
  {
   "cell_type": "code",
   "execution_count": null,
   "metadata": {},
   "outputs": [],
   "source": [
    "#| export\n",
    "def surface_to_schaefer(\n",
    "    array, # array with surface values, has to match vertex count\n",
    "    surface:str, # surface to parcellate; valid choices: ('fslr32k')\n",
    "    atlas_resolution:str, # atlas resolution; valid choices: ('400x7')\n",
    "):\n",
    "    \"Harnesses neuromaps to schaefer-parcellate metrics on surface\"\n",
    "\n",
    "    from neuromaps.parcellate import Parcellater\n",
    "    from netneurotools import datasets as nntdata\n",
    "    from neuromaps.images import dlabel_to_gifti\n",
    "\n",
    "    parc_space_dict = {\n",
    "        'fslr32k':'fsLR'\n",
    "    }\n",
    "\n",
    "    atlas_dict = {\n",
    "        \"400x7\":'400Parcels7Networks',\n",
    "        \"200x7\":'200Parcels7Networks',\n",
    "        \"100x7\":'100Parcels7Networks',\n",
    "        \"400x17\":'400Parcels17Networks',\n",
    "        \"200x17\":'200Parcels17Networks',\n",
    "        \"100x17\":'100Parcels17Networks',\n",
    "    }\n",
    "\n",
    "    schaefer = nntdata.fetch_schaefer2018(surface)[atlas_dict[atlas_resolution]]\n",
    "    parc = Parcellater(dlabel_to_gifti(schaefer), parc_space_dict[surface])\n",
    "\n",
    "    return parc.fit_transform(array.squeeze(), parc_space_dict[surface])"
   ]
  },
  {
   "cell_type": "code",
   "execution_count": null,
   "metadata": {},
   "outputs": [],
   "source": [
    "#| export\n",
    "def perform_spins(\n",
    "    array, # array with Schaefer-parcellated metric\n",
    "    reference_array, # reference array with Schaefer-parcellated metric\n",
    "    atlas_resolution:str, # atlas resolution; valid choices: (\"100\",\"200\",'400')\n",
    "    ):\n",
    "    \"Perform spin permutations on Schaefer-parcellated data; returns spearman correlation, p-value and permuted correlations\"\n",
    "\n",
    "    import numpy as np\n",
    "    from scipy.stats import spearmanr\n",
    "    from enigmatoolbox.permutation_testing import spin_test\n",
    "\n",
    "    # Perform spatial correlations\n",
    "    fin_idx = np.isfinite(array) & np.isfinite(reference_array)\n",
    "    r = spearmanr(array[fin_idx], reference_array[fin_idx])[0]\n",
    "    p, d = spin_test(array, reference_array, surface_name='fsa5', parcellation_name=f'schaefer_{atlas_resolution}',\n",
    "                                type='spearman', n_rot=1000, null_dist=True)\n",
    "\n",
    "\n",
    "    return r, p, d"
   ]
  },
  {
   "cell_type": "code",
   "execution_count": null,
   "metadata": {},
   "outputs": [],
   "source": [
    "#| export\n",
    "def plot_null_distributions(\n",
    "    r:float, # correlation between metric and reference\n",
    "    p:float, # p-value\n",
    "    d, # array with permuted correlations\n",
    "    xlabel:str, # x axis label\n",
    "    color:str, # color to use for the plot (hex code, rgb, or named color)\n",
    "    ):\n",
    "    \"Plots null distribution of correlations\"\n",
    "    \n",
    "    import matplotlib.pyplot as plt\n",
    "\n",
    "    fig, axs = plt.subplots(1, 1, figsize=(6, 3))\n",
    "\n",
    "\n",
    "    # Plot null distributions\n",
    "\n",
    "    axs.hist(d, bins=50, density=True, color=color, edgecolor='white', lw=0.5)\n",
    "\n",
    "    axs.axvline(r, lw=1.5, ls='--', color='k', dashes=(2, 3),\n",
    "\n",
    "                label=f'$r_{{sp}}$={r:.2f}' + f'\\n$p_{{spin}}$={p:.3f}')\n",
    "\n",
    "    axs.set_xlabel(f'Null correlations \\n ({xlabel})')\n",
    "\n",
    "    axs.set_ylabel('Density')\n",
    "\n",
    "    axs.spines['top'].set_visible(False)\n",
    "\n",
    "    axs.spines['right'].set_visible(False)\n",
    "\n",
    "    axs.legend(loc=1, frameon=False)\n",
    "\n",
    "    fig.tight_layout()\n",
    "\n",
    "    plt.show()\n",
    "\n",
    "    return fig\n"
   ]
  },
  {
   "cell_type": "code",
   "execution_count": null,
   "metadata": {},
   "outputs": [],
   "source": [
    "#| hide\n",
    "import nbdev; nbdev.nbdev_export()"
   ]
  },
  {
   "cell_type": "code",
   "execution_count": null,
   "metadata": {},
   "outputs": [],
   "source": []
  },
  {
   "cell_type": "code",
   "execution_count": null,
   "metadata": {},
   "outputs": [],
   "source": []
  }
 ],
 "metadata": {
  "kernelspec": {
   "display_name": "Python 3.7.7 ('brainstat')",
   "language": "python",
   "name": "python3"
  }
 },
 "nbformat": 4,
 "nbformat_minor": 4
}
