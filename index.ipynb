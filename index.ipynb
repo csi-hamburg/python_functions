{
 "cells": [
  {
   "cell_type": "code",
   "execution_count": 1,
   "metadata": {},
   "outputs": [],
   "source": [
    "#| hide\n",
    "from python_functions.descriptive_statistics import *"
   ]
  },
  {
   "cell_type": "markdown",
   "metadata": {},
   "source": [
    "# python_functions\n",
    "\n",
    "> Collection of Python helper functions from Clinical Stroke and Imaging Research Lab"
   ]
  },
  {
   "cell_type": "markdown",
   "metadata": {},
   "source": [
    "This file will become your README and also the index of your documentation."
   ]
  },
  {
   "cell_type": "markdown",
   "metadata": {},
   "source": [
    "## Install"
   ]
  },
  {
   "cell_type": "markdown",
   "metadata": {},
   "source": [
    "```sh\n",
    "git clone https://github.com/csi-hamburg/python_functions\n",
    "cd python_functions\n",
    "python setup.py install\n",
    "```"
   ]
  },
  {
   "cell_type": "markdown",
   "metadata": {},
   "source": [
    "## How to use"
   ]
  },
  {
   "cell_type": "markdown",
   "metadata": {},
   "source": [
    "stats = stats_2groups(statistics_df,list(variables), \n",
    "([\"ttest\"] * 12 + [\"ancova\"] * 8), 'diagnosis_metabolic_syndrome',  ['base_age', 'base_sex_numeric', 'base_education_isced'])"
   ]
  },
  {
   "cell_type": "markdown",
   "metadata": {},
   "source": [
    "stats_prettified = finalize_stats_2groups(stats)"
   ]
  }
 ],
 "metadata": {
  "kernelspec": {
   "display_name": "Python 3.7.7 ('brainstat')",
   "language": "python",
   "name": "python3"
  },
  "language_info": {
   "codemirror_mode": {
    "name": "ipython",
    "version": 3
   },
   "file_extension": ".py",
   "mimetype": "text/x-python",
   "name": "python",
   "nbconvert_exporter": "python",
   "pygments_lexer": "ipython3",
   "version": "3.7.7"
  },
  "vscode": {
   "interpreter": {
    "hash": "e2354512771dad4c667efaf5b68897636356778bda725170f628cbff1df08cc7"
   }
  }
 },
 "nbformat": 4,
 "nbformat_minor": 4
}
